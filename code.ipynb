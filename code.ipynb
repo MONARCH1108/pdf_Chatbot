{
 "cells": [
  {
   "cell_type": "code",
   "execution_count": 2,
   "metadata": {},
   "outputs": [],
   "source": [
    "import fitz  # PyMuPDF\n",
    "import spacy"
   ]
  },
  {
   "cell_type": "code",
   "execution_count": 3,
   "metadata": {},
   "outputs": [],
   "source": [
    "nlp = spacy.load(\"en_core_web_sm\")"
   ]
  },
  {
   "cell_type": "code",
   "execution_count": 6,
   "metadata": {},
   "outputs": [],
   "source": [
    "def extract_text_from_pdf(pdf_path):\n",
    "    doc = fitz.open(pdf_path)\n",
    "    text = \"\"\n",
    "    for page in doc:\n",
    "        text += page.get_text(\"text\") + \"\\n\"\n",
    "    return text\n",
    "\n",
    "pdf_path = \"ur_pdf_file\"\n",
    "pdf_text = extract_text_from_pdf(pdf_path)\n",
    "doc = nlp(pdf_text)"
   ]
  },
  {
   "cell_type": "code",
   "execution_count": 7,
   "metadata": {},
   "outputs": [],
   "source": [
    "def clean_text(doc):\n",
    "    cleaned_tokens = [\n",
    "        token.lemma_.lower()  
    "        for token in doc\n",
    "        if not token.is_stop       
    "        and not token.is_punct       
    "        and not token.is_space       
    "        and len(token.text.strip()) > 1  
    "    ]\n",
    "    return \" \".join(cleaned_tokens)  "
   ]
  },
  {
   "cell_type": "code",
   "execution_count": 14,
   "metadata": {},
   "outputs": [
    {
     "name": "stdout",
     "output_type": "stream",
     "text": [
      "january 17 2023 ms. andrea walker disability determination services fax 555 555 2635 ava carter ssn 999 99 9999 dob 11/07/1960 concern ms. ava carter 47 year old single woman history bipolar disorder major depression ms. carter average sized 5’8 woman medium build ms. carter brown eye short black hair streak gray meet ms. carter sleep bridge complain awful smell urine fact drug addict steal psychiatric medication night want come street ms. carter depressed energy change clothe normal grooming routine personal history ms. carter bear raise buffalo ny mother stepfather raise divorce 11 12 year old ms. carter old half sister 5- year apart ms. carter tenuous relationship mom young mother physically emotionally abusive ms. carter refer scar arm recount particular episode abuse year old explain mother anger look like biological father mother harbor contempt ms. carter run away home away abusive environment ms. carter 14 year old mother send ohio live biological father mother cite behavior problem reason send away ms. carter father compulsive gambler physically abuse ms. carter 14 father ask sex run away final time ms. carter report mom depressed explain probably reason anger take report mother hospital nervous condition reflect likely nervous breakdown mother hurt badly year old ms. carter child 17 year old describe have son wedlock live pillar post know father live girlfriend year son young smile talk time recount good time life sigh explain mess leave try heterosexual relationship build stability son 22 year old marry john carter mr. carter alcoholic abusive month move house apartment son apartment ms. carter brutally rape man come apartment sit son hold butcher knife neck rape son experience traumatic ms. carter turning point life afraid son safety place foster care system able recover custody mr. john carter die 12 year marry couple officially divorce year ago ms. carter relationship woman approximately year ending relationship say mess ms. carter experience homelessness live new jersey stay shelter new york short time apartment long livable ms. carter move alabama 2005 live close sister live birmingham ms. carter live section subsidized apartment april 2006 miss recertification appointment lose voucher ms. carter homeless stay numerous shelter metro birmingham area include sister house main st. shelter christian refuge homeless center ms. carter live street time homeless center run unable find shelter ms. carter remain homeless educational history ms. carter leave school 9th grade run away father house school attend special education class tutor subject struggle lot math like subject school enjoy focus english grammar ms. carter report lot behavior problem school point time suspend school kindergarten ms. carter receive ged 1991 serve time bells hanford correctional facility new jersey employment history ms. carter able steady time employment life hold number different odd job begin work 17 year old perform cna certified nursing assistant work report number fast food job mcdonalds cook fry clean dining room occasionally ask run register quickly remove duty error report money check error ms. carter lose job depression able bed work fire isolate people work accord case note real recovery network july 2002 ava work st. eliza hospital quit week personal situation ms. carter able maintain time work unable learn remember new task job position hold mary restaurant mobile january 2003 fire couple week unable perform duty remember abbreviation require job physical health ms. carter hospitalize time physical health reason ms. carter hit car year old 10 year old remember pelvis break perform cat scan head remember accident treatment ms. carter experience problem left knee injure june 2001 receive treatment honest hospital emergency room community health behavioral services newark nj diagnose osgood schlatter disease july 10 2001 experience swell anterior patella prescribe celebrex knee brace treat injury august 2001 accord case note record june 2002 ms. carter experience pain swell left knee 17 2007 ms. carter go county health system emergency care center complaint knee pain james gray nurse state knee swell possible fluid accumulation deny medical help difficulty walk ms. carter continue experience problem knee recent diagnosis knee effusion 25 2007 birmingham community service board substance use history ms. carter state alcohol marijuana 17 year old start alcohol marijuana social environment curious recall effect drug give calming balance feeling depression drink marijuana moderately year age 28 try crack cocaine time drug give momentary break racing thought manic mood ms. carter crack cocaine 10 15 year enter addiction treatment program new jersey call center recovery early 40 remain sober 90 day ms. carter continue use feel number treatment program struggle substance use depression 10 year spring 2007 ask leave sister home stay number month mental health substance use live street number day enter detoxification program birmingham crisis center ms. carter relapse soon discharge crisis center mental health medication steal need quell mood swing june 15 2007 ms. carter enter day detoxification program new integrated behavioral healthcare inc. work recovery group st. john recovery center work remain recovery treatment include weekly urine screen drug alcohol individual group therapy urine screen detox come clean currently attend cocaine anonymous meeting additional support treatment appointment ms. carter sober enter detox program continue experience symptom mental illness include depression social isolation anxiety note record st. john recovery center date july 13 2007 state ms. carter present sad affect depressed mood group today keep head group participate repeat cry spell group tell provider life improve psychiatric information ms. carter report race thought depression mood swing say racing thought hard describe say thing pop explain try control thought scale sad 10 happy rate feel sad ms. carter feel anxious eat ms. carter young report thing wall tell mother mother see ms. carter say real ms. carter report hear thing long report drug happen ms. carter report prescribe numerous medication treat depression racing thought take wellbutrin prozac zoloft lithium seroquel haldol ms. carter receive treatment central park new jersey march 2001 april 2001 accord medical discharge summary ms. carter appear depressed irritable labile affect struggle share feeling shame surround use patient shame surround current lifestyle behavior fail relationship son patient struggle depressive feeling anger resentment jealousy form involve relationship prevent able stay clean axis discharge diagnosis include alcohol dependence severe cocaine dependence cannabis abuse dysthymic disorder treat zoloft neurontin ms. carter receive treatment community health behavioral services new jersey february 2001 august 2002 case note april 05 2001 describe self- medication ms. carter use treat mental health symptom ms. carter state feel irritable antsy describe relax state feel way return illegal drug use ms. carter take nuerontin 400 mg tid zoloft 100 mg april 27 2001 visit ms. carter feel medication work feel anxious have trouble control anger april 2002 ms. carter spend month central park treatment center medical discharge summary state patient see psychiatry staff 4/6 mse notable irritable speech pressured loud appear irritable constrict influence affect restart depakote 250 mg tid prozac 20 mg qd axis discharge diagnosis alcohol dependence cocaine dependence bipolar disorder mix vs major depression july 2002 ms. carter place real recovery network transitional housing placement ms. carter agree attend substance abuse treatment receive psychiatric service med mood swing develop structured daily routine accord case note ms. carter difficult time comply agreement depression self medication alcohol drug real recovery network report ms. carter fail depression medication resort drug use problem arise feel severely depressed september 2002 real recovery network progress note state ava complaint severe depression today question prescribed medication writer inform ava possible symptomology experience psychotropic ava state crack 9/10/02 state impetus use argument sister accord real recovery network progress note october 2002 ms. carter ask leave program non compliance regulation refuse forward treatment program staff note time ava demeanor despondent hopeless ask take psychotropic med depression bipolar disorder symptom state oh know ms. carter receive treatment center recovery new jersey september 2002 august 2004 september 2002 diagnose bipolar disorder major depression addition cocaine cannabis alcohol dependence ms. carter discharge summary october 2002 recommend place congregate care level ii facility highly structured environment 24/7 staff supervision indicate inability care independently ms. carter return final time august 2004 case note explain client moderate deficit core area client need high level care inpatient program follow congregate level ii facility conjunction intensive outpatient mental health counseling january 29 2004 ms. carter participate treatment program central park clinical discharge summary take ben barry register physician assistant state ms. carter report have suicidal thought depressed think wish dead patient state thought suicide week prior admission patient report having physically sexually abuse patient use manage stress feeling patient struggle manage conflict healthy way patient anger issue lack knowledge relapse dynamic lack cope skill deal everyday life patient significant psychiatric issue complicate treatment recovery evidence psychiatric diagnosis treatment ms. carter prescribe lithobid 300 mg bid complain effect start zoloft seroquel 100 mg qhs ms. carter diagnose polysubstance dependence bipolar disorder nos dr. greg henry accord central park psychiatric department note january 30 2004 ms. carter report diagnose bipolar disorder 2004 community behavioral services newark new jersey report spend week general hospital feel depressed suicidal accord july 2004 psychiatry progress note central behavioral healthcare ms. carter state feel depress life way grow note state seek psychiatric help 2000 state try paxil depokate prozac help mood note state substance abuse thought difficult concentrate drug help mood feel mental status section psychiatry note state appearance clean hair dishevel restless hypersensitive noise state thought jumbled trouble concentrate keep attention diagnosis july 2004 evaluation poly substance dependence alcoholism atypical psychosis schizoaffective disorder low iq pms prescribe haldol control thought antidepressant help mood past year ms. carter feel suicidal involuntary psychiatric hold county hospital send alabama state hospital evaluate tell doctor feel well release day april 2007 record county hospital report client history mental illness bipolar disorder patient medication month patient acknowledge mental illness living situation contribute abuse drug accord county hospital record ms. carter psychological evaluation dr. amber westgate april 29 2007 diagnose alcohol cocaine dependence bipolar disorder history patient note rule substance induce mood disorder prescribe seroquel depression dr. westgate document report depressive symptom meet criterion mild mde deny previous suicide attempt report use drug alcohol month ago report diagnose bipolar disorder age 40 irritable ask manic symptom 12 2007 ms. carter run bipolar medication go psychiatric emergency service county health system request medication accord record ms. carter medication day example ms. carter attempt remain compliant treatment depression difficult ms. carter follow appointment especially substance use treatment area county hospital consider trigger spot drug alcohol abuse dr. westgate appointment ms. carter 29 2007 psychiatric service outpatient clinic ms. carter appointment fear relapse ms. carter receive treatment birmingham community service board bcsb 13 25 2007 diagnose polysubstance dependence depressive disorder nos prescribe seroquel 100 mg qhs ms. farley lcsw conduct assessment bcsb 13 2007 describe ms. carter way unable work prostitute drug depressed 10 10 scale thought smoke death say bad sleep eat throw shelter inability curfew ms. carter currently take seroquel prescribe physician county hospital psychiatric emergency department june 24 2007 functional information understand remember apply information ms. carter require daily assistance nurse practitioner understand medication properly ms. carter want comply treatment protocol severity mental illness unable understand remember apply information ms. carter thought scatter understand follow simple routine instruction repeat question ask lose focus accept remember answer question make note treatment history write sheet paper particular order spatial reasoning ms. carter lose section housing attend recertification appointment follow basic procedure write lead homelessness ask leave homeless shelter unable follow curfew confusion concept time interact ms. carter react unexpectedly inappropriately interact stressful new situation building rapport ms. carter personable friendly observe ms. carter interact abrasively staff county health clinic ask leave office nearly appointment attend ms. carter act verbally create tense environment result security escort office concentrate persist maintain pace ms. carter struggle significantly concentration persistence describe short attention span trouble focus easily distract occasion describe inability focus clearly get unfocused ms. carter say sister irritated tell adhd ms. carter need encouragement wait appointment history miss appointment clinic writer tendency run evident young child run away abusive situation home ms. carter stress work leave time act verbally state energy sleep mealtime hope food come adapt manage oneself ms. carter react unexpectedly inappropriately stressful new situation ms. carter unable maintain housing symptom bipolar disorder ms. carter continuously try treatment mental health symptom find depression anxiety unbearable treat symptom substance ability function community worsen year ms. carter lose section housing attend recertification appointment long ask leave sister home cause problem homeless additionally staff local day center report ms. carter temporary 30 day ban premise get altercation day center staff ms. carter want tell instruction employer ms. carter tend run away stressful situation strong flight response tolerate challenging difficult situation ms. carter depressed attend grooming change clothe hair like say meeting writer ms. carter appear dishevel wrinkle unclean clothing matted hair ask able bathe reply get shower day center point go people tired deal mess report shower couple week remember exactly frequently ms. carter say like cook clean place order perform function 20 year unable provide daily need support sister social service organization state local charity give food box local soup kitchen meal ms. carter feel comfortable budget money say prefer rent pay roof head summary ms. carter 46 year old woman bipolar disorder cocaine dependence symptom illness include severe depression anxiety racing thought social isolation ms. carter homeless year unable maintain steady relationship housing situation 22 year old ms. carter unable work substantial gainful level 2003 functional impairment question ms. johnson 555 555 2134 dr. amber westgate 555 555 2135 sincerely kaitlyn johnson msw soar benefits specialist dr. amber westgate county hospital\n"
     ]
    }
   ],
   "source": [
    "pass_text = clean_text(doc)\n",
    "print(pass_text)"
   ]
  },
  {
   "cell_type": "code",
   "execution_count": 15,
   "metadata": {},
   "outputs": [],
   "source": [
    "import google.generativeai as genai"
   ]
  },
  {
   "cell_type": "code",
   "execution_count": 16,
   "metadata": {},
   "outputs": [],
   "source": [
    "genai.configure(api_key=\"ur_api_kay\")"
   ]
  },
  {
   "cell_type": "code",
   "execution_count": 17,
   "metadata": {},
   "outputs": [],
   "source": [
    "text = pass_text"
   ]
  },
  {
   "cell_type": "code",
   "execution_count": 18,
   "metadata": {},
   "outputs": [],
   "source": [
    "def ask_gemini(question, context):\n",
    "    model = genai.GenerativeModel(\"gemini-pro\")\n",
    "    \n",
    "    prompt = f\"\"\"\n",
    "    You are an AI assistant that answers questions based on the given text.\n",
    "    Text: {context}\n",
    "    Question: {question}\n",
    "    Answer:\n",
    "    \"\"\"\n",
    "    \n",
    "    response = model.generate_content(prompt)\n",
    "    return response.text.strip()"
   ]
  },
  {
   "cell_type": "code",
   "execution_count": 21,
   "metadata": {},
   "outputs": [
    {
     "name": "stdout",
     "output_type": "stream",
     "text": [
      "\n",
      "Gemini Answer: This question is unanswerable from the given context because the provided text is an assessment report for Ms. Ava Carter; it does not mention the main objective of the pdf.\n",
      "\n",
      "Gemini Answer: This PDF is about a disability determination for Ms. Ava Carter, a 46-year-old woman with bipolar disorder and cocaine dependence. It includes her history with mental health issues, substance abuse, and homelessness, as well as her current symptoms and treatment.\n",
      "\n",
      "Gemini Answer: | Issue | Description |\n",
      "|---|---|\n",
      "| Bipolar Disorder | A mental illness characterized by episodes of mania and depression. |\n",
      "| Cocaine Dependence | A substance use disorder characterized by compulsive use of cocaine despite negative consequences. |\n",
      "| Severe Depression | A mental illness characterized by persistent sadness, loss of interest, and feelings of worthlessness. |\n",
      "| Anxiety | A mental illness characterized by excessive worry, fear, and nervousness. |\n",
      "| Racing Thoughts | A mental illness characterized by a rapid succession of thoughts that are difficult to control. |\n",
      "| Social Isolation | A lack of social connections and relationships. |\n",
      "| Homelessness | A state of living without a permanent home or shelter. |\n",
      "| Inability to Maintain Steady Relationships | Difficulty forming and maintaining healthy relationships with others. |\n",
      "| Inability to Work at Substantial Gainful Level | A lack of ability to work at a level that would provide financial support. |\n",
      "\n",
      "Gemini Answer: | Problem |\n",
      "    | ----------- |\n",
      "    | Bipolar disorder |\n",
      "    | Major depression |\n",
      "    | Drug addiction |\n",
      "    | History of physical and sexual abuse |\n",
      "    | Homelessness |\n",
      "    | Unemployment |\n",
      "    | Inability to maintain stable relationships |\n",
      "    | Anxiety |\n",
      "    | Racing thoughts |\n",
      "    | Social isolation |\n",
      "    | Suicidal thoughts |\n",
      "    | Difficulty concentrating |\n",
      "    | Memory problems |\n",
      "    | Impulsivity |\n",
      "    | Poor decision-making |\n",
      "    | Difficulty with self-care |\n",
      "    | Lack of motivation |\n",
      "    | Flight response |\n",
      "    | Difficulty tolerating challenging situations |\n",
      "Exiting...\n"
     ]
    }
   ],
   "source": [
    "while True:\n",
    "    user_question = input(\"\\nAsk a question about the PDF (or type 'exit' to quit): \")\n",
    "    \n",
    "    if user_question.lower() == \"exit\":\n",
    "        print(\"Exiting...\")\n",
    "        break\n",
    "    \n",
    "    answer = ask_gemini(user_question, text)\n",
    "    print(\"\\nGemini Answer:\", answer)"
   ]
  },
  {
   "cell_type": "code",
   "execution_count": null,
   "metadata": {},
   "outputs": [],
   "source": []
  }
 ],
 "metadata": {
  "kernelspec": {
   "display_name": "venv",
   "language": "python",
   "name": "python3"
  },
  "language_info": {
   "codemirror_mode": {
    "name": "ipython",
    "version": 3
   },
   "file_extension": ".py",
   "mimetype": "text/x-python",
   "name": "python",
   "nbconvert_exporter": "python",
   "pygments_lexer": "ipython3",
   "version": "3.12.3"
  }
 },
 "nbformat": 4,
 "nbformat_minor": 2
}
