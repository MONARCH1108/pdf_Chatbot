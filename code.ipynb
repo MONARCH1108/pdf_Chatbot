{
 "cells": [
  {
   "cell_type": "code",
   "execution_count": 12,
   "metadata": {},
   "outputs": [],
   "source": [
    "import fitz  # PyMuPDF\n",
    "import spacy"
   ]
  },
  {
   "cell_type": "code",
   "execution_count": 13,
   "metadata": {},
   "outputs": [
    {
     "name": "stderr",
     "output_type": "stream",
     "text": [
      "C:\\Users\\abhay\\AppData\\Local\\Packages\\PythonSoftwareFoundation.Python.3.11_qbz5n2kfra8p0\\LocalCache\\local-packages\\Python311\\site-packages\\spacy\\util.py:910: UserWarning: [W095] Model 'en_core_web_sm' (3.7.1) was trained with spaCy v3.7.2 and may not be 100% compatible with the current version (3.8.2). If you see errors or degraded performance, download a newer compatible model or retrain your custom model with the current spaCy version. For more details and available updates, run: python -m spacy validate\n",
      "  warnings.warn(warn_msg)\n"
     ]
    }
   ],
   "source": [
    "nlp = spacy.load(\"en_core_web_sm\")"
   ]
  },
  {
   "cell_type": "code",
   "execution_count": 14,
   "metadata": {},
   "outputs": [],
   "source": [
    "def extract_text_from_pdf(pdf_path):\n",
    "    doc = fitz.open(pdf_path)\n",
    "    text = \"\"\n",
    "    for page in doc:\n",
    "        text += page.get_text(\"text\") + \"\\n\"\n",
    "    return text\n",
    "\n",
    "pdf_path = input(\"provide path to the file\")\n",
    "pdf_text = extract_text_from_pdf(pdf_path)\n",
    "doc = nlp(pdf_text)"
   ]
  },
  {
   "cell_type": "code",
   "execution_count": 15,
   "metadata": {},
   "outputs": [],
   "source": [
    "def clean_text(doc):\n",
    "    cleaned_tokens = [\n",
    "        token.lemma_.lower()  # Lemmatization (convert to base form)\n",
    "        for token in doc\n",
    "        if not token.is_stop        # Remove stopwords\n",
    "        and not token.is_punct       # Remove punctuation\n",
    "        and not token.is_space       # Remove spaces\n",
    "        and len(token.text.strip()) > 1  # Remove single characters\n",
    "    ]\n",
    "    return \" \".join(cleaned_tokens)  "
   ]
  },
  {
   "cell_type": "code",
   "execution_count": 16,
   "metadata": {},
   "outputs": [
    {
     "name": "stdout",
     "output_type": "stream",
     "text": [
      "january 17 2023 disability determination services 55 rd town st 55555 jim parker dob 11/11/1111 ssn 111 11 1111 concern jim 56 year old male currently diagnose major depressive disorder anxiety disorder experience symptom year jim present appear speak delve deeply history symptom experience significant anxiety tension paranoia surround day day life difficulty social situation especially meet new people crowded area tolerate social situation pick hand relay symptom pain daily experience significant symptom depression debilitate point unable leave house tent easily agitated quick angry feel mood shift quickly moment functional leave house tent edge feel depressed hard bed feel shaky unsteady isolate jim graduate high school receive special education work year severe mental health symptom impact ability maintain employment jim bear raise town state grow mother father sister report family mess feel distant report happy memory childhood try spend time house possible father temper physically abusive endure verbal abuse report father denigrate sister leave home soon possible verbal abuse jim experience significant verbal abuse father abuse haunt today able acknowledge negative feeling stem year abuse father unable talk cause significant pain discomfort ultimately manifest increase symptom nightmare jim recall school history spotty difficult academic social interaction report breeze primary grade able test report learn study try school easy jim report thing change get high school begin trouble bully student jim barely graduate high school juke system change grade intercept mail parent know severity failing jim report force college unable tolerate class graduate jim prior relationship ex wife longtime girlfriend daughter ex good relationship woman touch daughter visit periodically custody jim homeless year live isolate tent past year interact individual employment history jim go weld school 1978 spend year welder work shop fix furniture metal work order fix product report like work get tired people work feel wear jim spend significant time work restaurant bus boy dish washer cook report love include pace scene interact customer note especially enjoy night shift few people ask get co worker supervisor report personality start clash altercation want thing way matter work supervisor depend time argument supervisor disagree jim report enjoy restaurant work note imagine go point life enjoy live edge panic push overwhelming anxiety unable tolerate stressful situation jim work 2010 stop show work fear interact co worker customer ask happen restaurant environment jim note know good ask attempt obtain employment laugh long pause state handle fill application time sit stare screen idea walk place forget recently jim start write attempt release anxiety substance use history jim history cocaine heroin use note enjoy high bring help counteract low use substance mask fear social anxiety state use anxiety problem away feel competent confident time life feel fear lessen well interact stop cocaine year ago heroin year ago note desire use anymore ask use impact symptom state hard tell recognize anxiety worsen depression maintain level severity sober record emergency room visit past 10 year indicate clean urine screen physical history jim medical condition impact daily life include degenerative disc disorder copd severe car accident year ago continue experience significant pain walk get bed morning jim report take ibuprofen need help pain consistently report ongoing severe pain impact ability sleep take inhaler copd cause dry mouth dizziness daily report take medication effect psychiatric history jim report see psychiatrist early 1980 begin take medication report work alleviate mental health symptom 20 year avoid treatment hope manage mental health 2010 anxiety worsen depression debilitating attempt counseling series mental health therapist report try different therapist visit ask wrong question right question wrong one elaborate ready deal trauma youth current feeling anxiety 2011 hospitalize time university hospital day suicidal ideation enter hospital plan overdose admit 2013 jim hospitalize memorial hospital mental health symptom note indicate lethargic present flat affect time leave hospital unable access mental health treatment try find overwhelmed depression anxiety lack follow jim consistently medication ask medication help prescribe jim report point ai worth currently jim exhibit symptom anxiety disorder major depression addition exhibit trait personality disorder jim report feel fall depressive slide feel hopeless life increase anxiety certain situation report state will day forgetful jim recently receive diagnosis anxiety disorder mood disorder health professional community health center chc jim exhibit significant symptom depression report loss interest activity enjoy note enjoy physically active feel depressed weight desire thing addition note feel depressed interest attend hygiene activity take pride jim enjoy write express feeling depressed find energy pick pen desire write jim trouble sleep symptom state sleep recent episode recall bad night able sleep nearly 3:00 a.m. wake startled shake soak wet perspiration claw way bad dream nightmare half awake hallucination jim frequently worry thing make sleep difficult state anxiety keep awake worry sleep stable place sleep jim report low energy feel lie bed pain desire bed report sit couch sleep bag bathroom struggle state thing week plan ready task approach motivate see multiple occasion disability case occasion miss appointment anxiety low motivation addition continually complete application lack energy low motivation anxiety medical record chc corroborate note miss appointment therapist low energy trouble get chc psychiatric appointment jim drive chc ensure trip jim report scale low 10 high mood average low hover report anxiety heighten black mood low feel like walk jello hurt report pain exacerbate energy take long activity take effort task state day walk effort jim experience suicidal ideation report feel depressed call black period tired want note want pain end end report plan time sit gun mouth wait pull trigger report ideation passive find think bother live go improve jim feeling guilt worthlessness daily wonder unable hold job care young daughter long wonder wrong people able certain thing happen jim carry significant pain childhood internalize today point begin tear recall story father jim room yell sister need well want end loser like brother jim depression impact daily debilitate anxiety meeting writer request warm introduction fearful interact new request additional provider meet community health center jim frequently worry thing include live situation weight fear life change know fear unreasonable ignore interaction repeatedly pick finger look appear markedly upset nervous report feel anxious get cold sweat shake stomach start churn physical reaction include race heart diarrhea jim report trigger increase feeling anxiety include high stress situation meet new people addition slow building trigger file disability claim appointment chc cause ruminate fear ask think reply know worry worry people wrong bum jim utilize email order avoid person telephonic conversation state keyboard fine person stranger phone bare minimum contact bundle raw nerve send numerous email detail low mood anxiety state nerve jangle like bungee cord jerk past day state right nerve anxiety stretch nearly point snapping thought try close dry heave disability examiner attempt reach phone beg able email nervous jim nightmare invasive memory past trauma report wake cold sweat remember dream time recall vividly cause significant distress invasive memory car accident awake hospital choke tube mouth wake difficulty breathing feel like choke start gag time dream center monster stephen king type horror show leave panicked fearful functional information understand remember apply information jim difficulty focus complete task race thought difficult focus task anxiety create worry loop ruminate issue fear outcome act interaction tangential concrete require redirection topic hand want steer discussion topic require reminder appointment forget appointment miss appointment past jim report watch tv unable focus watch remember watch interact jim substantial deficit interact feel paranoid think feels judge fear potential ridicule feel like fit outside participate group feel scared uncomfortable long group time feel people understand panic participate group attend ask join writer group task enjoy jim report imagine room write jim tend isolate feel anxious interact new people example meet new psychiatrist request therapist help initial wall anxiety walk office break ice introduction jim report relationship superficial feel actually want want form relationship hard step jim tend dependent individual form inappropriate relationship jim frequently worry thing include living situation weight fear life change know fear unreasonable ignore adapt manage oneself jim set viewpoint agitated combative frustrate attempt question jim rigid manipulative dependent survival method pervasive thought process hinder success certain environment state thing week plan ready task approach motivate see multiple occasion disability case note especially enjoy night shift few people ask get co worker supervisor report personality start clash altercation want thing way matter work supervisor depend time argument supervisor disagree sleep night depressed get bed morning chore report able cook feel depressed edge panic cook instead eat peanut butter mayo sandwich available cook take effort time low energy mood jim note able shop independently depress store state get piss crowd feel anxious overwhelmed state unable clothing store anxiety anger frustration wear clothe fall apart jim report able clean pain severe depression worsen forgo cleaning activity admit dish pile sink procrastinate think tomorrow take day cleaning complete ask personal hygiene jim laugh admit trouble go shower dressed stay outside lie tent care hygiene include brush tooth shower access washer dryer leave clothe dirty summary jim 56 year old male diagnose major depressive disorder anxiety disorder exhibit significant symptom daily basis aware depressive episode come take week engage chc feel uncomfortable new people navigate system experience significant low mood lack motivation low energy feeling worthlessness addition anxiety severe prevent engage daily activity basic social interaction question concern contact john smith 444 555 6666 dr. mark marshall 444 555 6777 sincerely john smith dr. mark marshall\n"
     ]
    }
   ],
   "source": [
    "pass_text = clean_text(doc)\n",
    "print(pass_text)"
   ]
  },
  {
   "cell_type": "code",
   "execution_count": 17,
   "metadata": {},
   "outputs": [],
   "source": [
    "import google.generativeai as genai"
   ]
  },
  {
   "cell_type": "code",
   "execution_count": null,
   "metadata": {},
   "outputs": [],
   "source": [
    "genai.configure(api_key=\"Api_key\")"
   ]
  },
  {
   "cell_type": "code",
   "execution_count": 19,
   "metadata": {},
   "outputs": [],
   "source": [
    "text = pass_text"
   ]
  },
  {
   "cell_type": "code",
   "execution_count": 20,
   "metadata": {},
   "outputs": [],
   "source": [
    "def ask_gemini(question, context):\n",
    "    model = genai.GenerativeModel(\"gemini-pro\")\n",
    "    \n",
    "    prompt = f\"\"\"\n",
    "    You are an AI assistant that answers questions based on the given text.\n",
    "    Text: {context}\n",
    "    Question: {question}\n",
    "    Answer:\n",
    "    \"\"\"\n",
    "    \n",
    "    response = model.generate_content(prompt)\n",
    "    return response.text.strip()"
   ]
  },
  {
   "cell_type": "code",
   "execution_count": 21,
   "metadata": {},
   "outputs": [
    {
     "name": "stdout",
     "output_type": "stream",
     "text": [
      "\n",
      "Gemini Answer: This document is about Jim, a 56-year-old male diagnosed with major depressive disorder and anxiety disorder.\n",
      "\n",
      "Gemini Answer: | **Issue** | **Details** |\n",
      "|---|---|\n",
      "| **Mental health** | Major depressive disorder, anxiety disorder, personality disorder |\n",
      "| **Substance use** | History of cocaine and heroin use |\n",
      "| **Medical** | Degenerative disc disorder, COPD, severe car accident |\n",
      "| **Social** | Homeless, isolated, difficulty interacting with others |\n",
      "| **Cognitive** | Difficulty focusing, completing tasks, and remembering information |\n",
      "| **Emotional** | Feeling depressed, worthless, and hopeless |\n",
      "| **Behavioral** | Suicidal ideation, self-harming behaviors, difficulty sleeping |\n",
      "| **Physical** | Pain, fatigue, low energy |\n",
      "Exiting...\n"
     ]
    }
   ],
   "source": [
    "while True:\n",
    "    user_question = input(\"\\nAsk a question about the PDF (or type 'exit' to quit): \")\n",
    "    \n",
    "    if user_question.lower() == \"exit\":\n",
    "        print(\"Exiting...\")\n",
    "        break\n",
    "    \n",
    "    answer = ask_gemini(user_question, text)\n",
    "    print(\"\\nGemini Answer:\", answer)"
   ]
  },
  {
   "cell_type": "code",
   "execution_count": null,
   "metadata": {},
   "outputs": [],
   "source": []
  }
 ],
 "metadata": {
  "kernelspec": {
   "display_name": "Python 3",
   "language": "python",
   "name": "python3"
  },
  "language_info": {
   "codemirror_mode": {
    "name": "ipython",
    "version": 3
   },
   "file_extension": ".py",
   "mimetype": "text/x-python",
   "name": "python",
   "nbconvert_exporter": "python",
   "pygments_lexer": "ipython3",
   "version": "3.11.9"
  }
 },
 "nbformat": 4,
 "nbformat_minor": 2
}
